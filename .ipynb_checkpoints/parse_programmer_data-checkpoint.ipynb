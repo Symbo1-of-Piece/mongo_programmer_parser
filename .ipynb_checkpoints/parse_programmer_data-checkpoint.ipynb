{
 "cells": [
  {
   "cell_type": "code",
   "execution_count": 1,
   "id": "fde7c58f",
   "metadata": {},
   "outputs": [],
   "source": [
    "import json\n",
    "import pandas\n",
    "from datetime import datetime\n",
    "from pymongo import MongoClient\n",
    "from bson import json_util"
   ]
  },
  {
   "cell_type": "markdown",
   "id": "c5bbaeca",
   "metadata": {},
   "source": [
    "#### Подключение к БД:"
   ]
  },
  {
   "cell_type": "code",
   "execution_count": 2,
   "id": "62a8917a",
   "metadata": {},
   "outputs": [
    {
     "name": "stdout",
     "output_type": "stream",
     "text": [
      "Подключение к MongoDB успешно\n"
     ]
    }
   ],
   "source": [
    "client = MongoClient(\"localhost:27017\")\n",
    "db = client['auto-programmer-db']\n",
    "firmware_collection = db['firmware_projects_arch']\n",
    "collection_list = db.list_collection_names()\n",
    "\n",
    "if collection_list is not None:\n",
    "    print(\"Подключение к MongoDB успешно\")\n",
    "else:\n",
    "    print(\"Не удалось подключиться к MongoDB.\")"
   ]
  },
  {
   "cell_type": "markdown",
   "id": "0afa504e",
   "metadata": {},
   "source": [
    "#### Поиск документа по запросу:"
   ]
  },
  {
   "cell_type": "code",
   "execution_count": 3,
   "id": "007a4c9f",
   "metadata": {},
   "outputs": [],
   "source": [
    "def find_documents(query:dict):\n",
    "    \"\"\"\n",
    "    Функция для поиска документов по заданному запросу.\n",
    "    \n",
    "    Parameters:\n",
    "        query(dict): объект типа словарь, содержащий условие поиска\n",
    "        \n",
    "    Returns:\n",
    "        json_documents: итерируемый объект JSON, содержащий документы, удовлетворяющие запросу\n",
    "        \n",
    "    Example_usage: \n",
    "        find_documents({\"project_name\":\"td_ble_523\"})\n",
    "    \"\"\"\n",
    "    cursor = list(firmware_collection.find(query))\n",
    "    if cursor:\n",
    "        json_documents = json_util.dumps(cursor)\n",
    "        return json.loads(json_documents)\n",
    "        return json_documents\n",
    "    else:\n",
    "        return 'Документы не найдены'"
   ]
  },
  {
   "cell_type": "markdown",
   "id": "8d531854",
   "metadata": {},
   "source": [
    "Получим документ:"
   ]
  },
  {
   "cell_type": "code",
   "execution_count": 4,
   "id": "f71c5afe",
   "metadata": {},
   "outputs": [],
   "source": [
    "my_document = find_documents({\"project_name\":\"td_ble_523\"})"
   ]
  },
  {
   "cell_type": "markdown",
   "id": "ef4306c4",
   "metadata": {},
   "source": [
    "#### Получение списка уникальных имен:"
   ]
  },
  {
   "cell_type": "code",
   "execution_count": 5,
   "id": "42097051",
   "metadata": {},
   "outputs": [],
   "source": [
    "def find_unique_project_names(collection, timestamp:str = None):\n",
    "    \"\"\"\n",
    "    Функция для поиска уникальных имен проектов.\n",
    "    \n",
    "    Parameters:\n",
    "        firmware_collection(pymongo.collection.Collection): Коллекция MongoDB, из которой нужно извлечь данные. \n",
    "        timestamp(str, optional): опциональный параметр, при наличии которого будет фильтрация только за указанную дату\n",
    "                        (по умолчанию за все время)\n",
    "        \n",
    "    Returns:\n",
    "       unique_project_names(list): возвращает список с уникальными именами проектов\n",
    "        \n",
    "    Example_usage: \n",
    "        find_unique_project_names(firmware_collection)\n",
    "        find_unique_project_names(firmware_collection, '2024-03-21')\n",
    "        \n",
    "    \"\"\"\n",
    "    query = {}\n",
    "    if timestamp:\n",
    "        query['timestamp'] = {'$regex': timestamp}\n",
    "\n",
    "    unique_project_names = firmware_collection.distinct('project_name', query)\n",
    "    return unique_project_names"
   ]
  },
  {
   "cell_type": "markdown",
   "id": "1d2d6a55",
   "metadata": {},
   "source": [
    "Получим список уникальных имен:"
   ]
  },
  {
   "cell_type": "code",
   "execution_count": 6,
   "id": "dcb15511",
   "metadata": {},
   "outputs": [
    {
     "data": {
      "text/plain": [
       "['td_ble_523']"
      ]
     },
     "execution_count": 6,
     "metadata": {},
     "output_type": "execute_result"
    }
   ],
   "source": [
    "find_unique_project_names(firmware_collection, '2024-03-21')"
   ]
  },
  {
   "cell_type": "markdown",
   "id": "50b8869c",
   "metadata": {},
   "source": [
    "#### Функция для возврата словаря mac:serial в заданном промежутке времени:"
   ]
  },
  {
   "cell_type": "code",
   "execution_count": 35,
   "id": "437e5a31",
   "metadata": {},
   "outputs": [],
   "source": [
    "def get_serial_mac_pairs(collection, start_date, end_date):\n",
    "    \"\"\"\n",
    "    Функция для извлечения пар серийный номер - MAC-адрес за указанный промежуток времени.\n",
    "\n",
    "    Parameters:\n",
    "        collection (pymongo.collection.Collection): Коллекция MongoDB, из которой нужно извлечь данные. \n",
    "        start_date (str): Начальная дата в формате 'YYYY-MM-DD'.\n",
    "        end_date (str): Конечная дата в формате 'YYYY-MM-DD'.\n",
    "        \n",
    "    Returns:\n",
    "       serial_mac_pairs (dict): Cловарm, который содержит пары значений serial_number:mac_address.\n",
    "       \n",
    "    Example_usage:\n",
    "        get_serial_mac_pairs(firmware_collection, \"2024-03-20\", \"2024-03-24\")\n",
    "\n",
    "    \"\"\"\n",
    "    query = {'timestamp': {'$gte': start_date,\n",
    "                           '$lte': end_date}}\n",
    "    projection = {'_id': 0, 'plates': 1}\n",
    "\n",
    "    cursor = collection.find(query, projection)\n",
    "\n",
    "    serial_mac_dict = {}\n",
    "\n",
    "    for document in cursor:\n",
    "        plates = document.get('plates', {})\n",
    "        for plate_info in plates.values():\n",
    "            serial_number = plate_info.get('serial_number')\n",
    "            mac_address = plate_info.get('mac_address')\n",
    "            if serial_number and mac_address:\n",
    "                serial_mac_dict[serial_number] = mac_address\n",
    "\n",
    "    if serial_mac_dict:\n",
    "        return serial_mac_dict\n",
    "    else:\n",
    "        return {'Документы за выбранные даты найдены'}"
   ]
  },
  {
   "cell_type": "markdown",
   "id": "032a6093",
   "metadata": {},
   "source": [
    "Получим словарь серийников и mac-адресов:"
   ]
  },
  {
   "cell_type": "code",
   "execution_count": 37,
   "id": "c07f1b1b",
   "metadata": {},
   "outputs": [
    {
     "name": "stdout",
     "output_type": "stream",
     "text": [
      "{100153: 'A7:D6:8E:73:86:C5 C5:86:73:E', 100154: '04:44:3A:65:A0:DE DE:A0:65:A', 100155: 'A7:D6:8E:73:86:C5 C5:86:73:E', 100156: '1C:0C:49:B7:0E:C0 C0:0E:B7:9', 100157: 'A7:D6:8E:73:86:C5 C5:86:73:E', 100158: '1C:0C:49:B7:0E:C0 C0:0E:B7:9', 100159: 'F7:9E:69:40:2A:C5 C5:2A:40:9', 100160: '26:64:E1:B6:15:FF FF:15:B6:1', 100161: '06:80:D5:FD:CE:DA DA:CE:FD:5', 100162: 'A7:D6:8E:73:86:C5 C5:86:73:E', 100163: '//'}\n"
     ]
    }
   ],
   "source": [
    "print(get_serial_mac_pairs(firmware_collection, \"2024-03-22\", \"2024-03-24\"))"
   ]
  },
  {
   "cell_type": "markdown",
   "id": "c809da01",
   "metadata": {},
   "source": [
    "def get_serial_mac_pairs(json_doc):\n",
    "    serial_mac_pairs = []\n",
    "    for document in json_doc:\n",
    "        timestamp = document.get('timestamp')\n",
    "        for plate_key, plate_value in document['plates'].items():\n",
    "            if 'serial_number' in plate_value and 'mac_address' in plate_value:\n",
    "                serial_number = plate_value.get('serial_number')\n",
    "                mac_address = plate_value.get('mac_address')\n",
    "                serial_mac_pairs.append({'serial_number': serial_number, 'mac_address': mac_address, 'timestamp': timestamp})\n",
    "    return serial_mac_pairs"
   ]
  },
  {
   "cell_type": "markdown",
   "id": "505ab0c9",
   "metadata": {},
   "source": [
    "serial_mac_pairs = get_serial_mac_pairs(my_query)\n",
    "serial_mac_pairs"
   ]
  }
 ],
 "metadata": {
  "kernelspec": {
   "display_name": "Python 3 (ipykernel)",
   "language": "python",
   "name": "python3"
  },
  "language_info": {
   "codemirror_mode": {
    "name": "ipython",
    "version": 3
   },
   "file_extension": ".py",
   "mimetype": "text/x-python",
   "name": "python",
   "nbconvert_exporter": "python",
   "pygments_lexer": "ipython3",
   "version": "3.11.4"
  }
 },
 "nbformat": 4,
 "nbformat_minor": 5
}
