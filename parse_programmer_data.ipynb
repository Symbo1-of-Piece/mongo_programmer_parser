{
 "cells": [
  {
   "cell_type": "code",
   "execution_count": 2,
   "id": "fde7c58f",
   "metadata": {},
   "outputs": [],
   "source": [
    "import json\n",
    "import pandas\n",
    "from datetime import datetime\n",
    "from pymongo import MongoClient\n",
    "from bson import json_util\n",
    "from collections import Counter"
   ]
  },
  {
   "cell_type": "markdown",
   "id": "c5bbaeca",
   "metadata": {},
   "source": [
    "#### Подключение к БД:"
   ]
  },
  {
   "cell_type": "code",
   "execution_count": 3,
   "id": "62a8917a",
   "metadata": {},
   "outputs": [
    {
     "name": "stdout",
     "output_type": "stream",
     "text": [
      "Подключение к MongoDB успешно\n"
     ]
    }
   ],
   "source": [
    "client = MongoClient(\"localhost:27017\")\n",
    "db = client['auto-programmer-db']\n",
    "firmware_collection = db['firmware_projects_arch']\n",
    "collection_list = db.list_collection_names()\n",
    "\n",
    "if collection_list is not None:\n",
    "    print(\"Подключение к MongoDB успешно\")\n",
    "else:\n",
    "    print(\"Не удалось подключиться к MongoDB.\")"
   ]
  },
  {
   "cell_type": "markdown",
   "id": "0afa504e",
   "metadata": {},
   "source": [
    "#### Поиск документа по запросу:"
   ]
  },
  {
   "cell_type": "code",
   "execution_count": 4,
   "id": "007a4c9f",
   "metadata": {},
   "outputs": [],
   "source": [
    "def find_documents(query:dict):\n",
    "    \"\"\"\n",
    "    Функция для поиска документов по заданному запросу.\n",
    "    \n",
    "    Parameters:\n",
    "        query(dict): объект типа словарь, содержащий условие поиска\n",
    "        \n",
    "    Returns:\n",
    "        json_documents: итерируемый объект JSON, содержащий документы, удовлетворяющие запросу\n",
    "        \n",
    "    Example_usage: \n",
    "        find_documents({\"project_name\":\"td_ble_523\"})\n",
    "    \"\"\"\n",
    "    cursor = list(firmware_collection.find(query))\n",
    "    if cursor:\n",
    "        json_documents = json_util.dumps(cursor)\n",
    "        return json.loads(json_documents)\n",
    "        return json_documents\n",
    "    else:\n",
    "        return 'Документы не найдены'"
   ]
  },
  {
   "cell_type": "markdown",
   "id": "8d531854",
   "metadata": {},
   "source": [
    "Получим документ:"
   ]
  },
  {
   "cell_type": "code",
   "execution_count": 5,
   "id": "f71c5afe",
   "metadata": {},
   "outputs": [],
   "source": [
    "my_document = find_documents({\"project_name\":\"td_ble_523\"})"
   ]
  },
  {
   "cell_type": "markdown",
   "id": "ef4306c4",
   "metadata": {},
   "source": [
    "#### Получение списка уникальных имен"
   ]
  },
  {
   "cell_type": "code",
   "execution_count": 6,
   "id": "42097051",
   "metadata": {},
   "outputs": [],
   "source": [
    "def find_unique_project_names(collection, timestamp:str = None):\n",
    "    \"\"\"\n",
    "    Функция для поиска уникальных имен проектов.\n",
    "    \n",
    "    Parameters:\n",
    "        firmware_collection(pymongo.collection.Collection): Коллекция MongoDB, из которой нужно извлечь данные. \n",
    "        timestamp(str, optional): опциональный параметр, при наличии которого будет фильтрация только за указанную дату\n",
    "                        (по умолчанию за все время)\n",
    "        \n",
    "    Returns:\n",
    "       unique_project_names(list): возвращает список с уникальными именами проектов\n",
    "        \n",
    "    Example_usage: \n",
    "        find_unique_project_names(firmware_collection)\n",
    "        find_unique_project_names(firmware_collection, '2024-03-21')\n",
    "        \n",
    "    \"\"\"\n",
    "    query = {}\n",
    "    if timestamp:\n",
    "        query['timestamp'] = {'$regex': timestamp}\n",
    "\n",
    "    unique_project_names = firmware_collection.distinct('project_name', query)\n",
    "    return unique_project_names"
   ]
  },
  {
   "cell_type": "markdown",
   "id": "1d2d6a55",
   "metadata": {},
   "source": [
    "Получим список уникальных имен:"
   ]
  },
  {
   "cell_type": "code",
   "execution_count": 7,
   "id": "dcb15511",
   "metadata": {},
   "outputs": [
    {
     "data": {
      "text/plain": [
       "['td_ble_523']"
      ]
     },
     "execution_count": 7,
     "metadata": {},
     "output_type": "execute_result"
    }
   ],
   "source": [
    "find_unique_project_names(firmware_collection, '2024-03-21')"
   ]
  },
  {
   "cell_type": "markdown",
   "id": "50b8869c",
   "metadata": {},
   "source": [
    "#### Функция для возврата словаря mac:serial в заданном промежутке времени"
   ]
  },
  {
   "cell_type": "code",
   "execution_count": 8,
   "id": "437e5a31",
   "metadata": {},
   "outputs": [],
   "source": [
    "def get_serial_mac_pairs(collection, start_date, end_date):\n",
    "    \"\"\"\n",
    "    Функция для извлечения списка пар серийный номер - MAC-адрес за указанный промежуток времени.\n",
    "\n",
    "    Parameters:\n",
    "        collection (pymongo.collection.Collection): Коллекция MongoDB, из которой нужно извлечь данные. \n",
    "        start_date (str): Начальная дата в формате 'YYYY-MM-DD'.\n",
    "        end_date (str): Конечная дата в формате 'YYYY-MM-DD'.\n",
    "        \n",
    "    Returns:\n",
    "       serial_mac_pairs (list): Список, который содержит пары значений serial_number:mac_address.\n",
    "       \n",
    "    Example_usage:\n",
    "        get_serial_mac_pairs(firmware_collection, \"2024-03-20\", \"2024-03-24\")\n",
    "\n",
    "    \"\"\"\n",
    "    query = {'timestamp': {'$gte': start_date,\n",
    "                           '$lte': end_date}}\n",
    "    projection = {'_id': 0, 'plates': 1}\n",
    "\n",
    "    cursor = collection.find(query, projection)\n",
    "\n",
    "    serial_mac_pairs = []\n",
    "    for document in cursor:\n",
    "        plates = document.get('plates', {})\n",
    "        for plate_info in plates.values():\n",
    "            serial_number = plate_info.get('serial_number')\n",
    "            mac_address = plate_info.get('mac_address')\n",
    "            serial_mac_pairs.append((serial_number, mac_address)) \n",
    "    if serial_mac_pairs:\n",
    "        return serial_mac_pairs\n",
    "    else:\n",
    "        return {'Документы за выбранные даты найдены'}"
   ]
  },
  {
   "cell_type": "markdown",
   "id": "032a6093",
   "metadata": {},
   "source": [
    "Получим список серийников и mac-адресов:"
   ]
  },
  {
   "cell_type": "code",
   "execution_count": 9,
   "id": "c07f1b1b",
   "metadata": {},
   "outputs": [
    {
     "name": "stdout",
     "output_type": "stream",
     "text": [
      "[(100153, 'A7:D6:8E:73:86:C5 C5:86:73:E'), (None, None), (None, None), (None, None), (None, None), (None, None), (None, None), (None, None), (None, None), (None, None), (None, None), (None, None), (None, None), (None, None), (None, None), (None, None), (None, None), (None, None), (None, None), (100154, '04:44:3A:65:A0:DE DE:A0:65:A'), (100155, 'A7:D6:8E:73:86:C5 C5:86:73:E'), (100156, '1C:0C:49:B7:0E:C0 C0:0E:B7:9'), (100157, 'F7:9E:69:40:2A:C5 C5:2A:40:9'), (None, None), (None, None), (None, None), (None, None), (None, None), (None, None), (None, None), (None, None), (None, None), (None, None), (None, None), (None, None), (None, None), (None, None), (None, None), (None, None), (None, None), (100157, 'A7:D6:8E:73:86:C5 C5:86:73:E'), (100158, '1C:0C:49:B7:0E:C0 C0:0E:B7:9'), (100159, 'F7:9E:69:40:2A:C5 C5:2A:40:9'), (100160, '26:64:E1:B6:15:FF FF:15:B6:1'), (100161, '06:80:D5:FD:CE:DA DA:CE:FD:5'), (None, None), (None, None), (None, None), (None, None), (None, None), (None, None), (None, None), (None, None), (None, None), (None, None), (None, None), (None, None), (None, None), (None, None), (None, None), (100162, 'A7:D6:8E:73:86:C5 C5:86:73:E'), (None, None), (None, None), (None, None), (None, None), (None, None), (None, None), (None, None), (None, None), (None, None), (None, None), (None, None), (None, None), (None, None), (None, None), (None, None), (None, None), (None, None), (None, None), (100163, '//')]\n"
     ]
    }
   ],
   "source": [
    "print(get_serial_mac_pairs(firmware_collection, \"2024-03-22\", \"2024-03-23\"))"
   ]
  },
  {
   "cell_type": "markdown",
   "id": "9f79da90",
   "metadata": {},
   "source": [
    "#### Функция для возврата словаря со статусами в заданном промежутке времени и проекте"
   ]
  },
  {
   "cell_type": "code",
   "execution_count": 10,
   "id": "d19b3d53",
   "metadata": {},
   "outputs": [],
   "source": [
    "def get_project_statuses(collection, start_date, end_date, project_name):\n",
    "    \"\"\"\n",
    "    Функция для получения словаря со статусами по проекту в заданный промежуток времени.\n",
    "\n",
    "    Parameters:\n",
    "        collection (pymongo.collection.Collection): Коллекция MongoDB, из которой нужно извлечь данные. \n",
    "        start_date (str): Начальная дата в формате 'YYYY-MM-DD'.\n",
    "        end_date (str): Конечная дата в формате 'YYYY-MM-DD'.\n",
    "        project_name(str): Имя проекта\n",
    "        \n",
    "    Returns:\n",
    "       project_status_dict (dict): Cловарь, который содержит статусы и информацию о них.\n",
    "       \n",
    "    Example_usage:\n",
    "        get_project_statuses(firmware_collection, \"2024-03-20\", \"2024-03-24\", \"td_ble_523\")\n",
    "\n",
    "    \"\"\"\n",
    "    query = {'project_name' : project_name,\n",
    "             'timestamp' : {'$gte': start_date,\n",
    "                           '$lte': end_date}}\n",
    "    projection = {'_id': 0, 'plates': 1}\n",
    "\n",
    "    cursor = collection.find(query, projection)\n",
    "\n",
    "    project_status_dict = {}\n",
    "    statuses_list = []\n",
    "    for document in cursor:\n",
    "        plates = document.get('plates', {})\n",
    "        for plate_info in plates.values():\n",
    "            statuses = plate_info.get('status')\n",
    "            statuses_list.append(statuses) \n",
    "    if statuses_list:\n",
    "        status_counts = Counter(statuses_list)\n",
    "        project_status_dict = {'total': len(statuses_list)}\n",
    "        project_status_dict.update(status_counts)    \n",
    "        return project_status_dict\n",
    "    else:\n",
    "        return f'Плат со статусом в проекте {project_name} за выбранный период времени не найдено'"
   ]
  },
  {
   "cell_type": "markdown",
   "id": "977773c8",
   "metadata": {},
   "source": [
    "Получим информацию о статусах плат проекта:"
   ]
  },
  {
   "cell_type": "code",
   "execution_count": 11,
   "id": "86e8a63f",
   "metadata": {},
   "outputs": [
    {
     "name": "stdout",
     "output_type": "stream",
     "text": [
      "{'total': 80, 'success': 10, 'nottodo': 68, 'fail': 2}\n"
     ]
    }
   ],
   "source": [
    "print(get_project_statuses(firmware_collection, \"2024-03-22\", \"2024-03-23\", \"td_ble_523\"))"
   ]
  },
  {
   "cell_type": "markdown",
   "id": "c3001b51",
   "metadata": {},
   "source": [
    "#### Функция для возврата списка серийников в проекте с заданным статусом за промежуток времени"
   ]
  },
  {
   "cell_type": "code",
   "execution_count": 12,
   "id": "f46f4974",
   "metadata": {},
   "outputs": [],
   "source": [
    "def get_serial_by_project_status(collection, start_date, end_date, project_name, status):\n",
    "    \"\"\"\n",
    "    Функция для возврата списка серийников в проекте с заданным статусом за промежуток времени\n",
    "\n",
    "    Parameters:\n",
    "        collection (pymongo.collection.Collection): Коллекция MongoDB, из которой нужно извлечь данные. \n",
    "        start_date (str): Начальная дата в формате 'YYYY-MM-DD'.\n",
    "        end_date (str): Конечная дата в формате 'YYYY-MM-DD'.\n",
    "        project_name(str): Имя проекта\n",
    "        status(str): Статус платы\n",
    "        \n",
    "    Returns:\n",
    "       serial_number_list (list): Лист содержащий серийники плат с заданным статусом\n",
    "       \n",
    "    Example_usage:\n",
    "        get_serial_by_project_status(firmware_collection, \"2024-03-22\", \"2024-03-24\", \"td_ble_523\", \"success\")\n",
    "\n",
    "    \"\"\"\n",
    "    query = {'project_name' : project_name,\n",
    "             'timestamp' : {'$gte': start_date,\n",
    "                           '$lte': end_date}}\n",
    "    projection = {'_id': 0, 'plates': 1}\n",
    "\n",
    "    cursor = collection.find(query, projection)\n",
    "\n",
    "    serial_number_list = []\n",
    "    for document in cursor:\n",
    "        plates = document.get('plates', {})\n",
    "        for plate_info in plates.values():\n",
    "            plate_status = plate_info.get('status')\n",
    "            if plate_status == status:\n",
    "                serial_number = plate_info.get('serial_number')\n",
    "                serial_number_list.append(serial_number)\n",
    "        return serial_number_list\n",
    "    else:\n",
    "        return f'Плат со статусом {status} в проекте {project_name} за выбранный период времени не найдено'"
   ]
  },
  {
   "cell_type": "markdown",
   "id": "e63dcca4",
   "metadata": {},
   "source": [
    "Получим серийники плат:"
   ]
  },
  {
   "cell_type": "code",
   "execution_count": 13,
   "id": "a7ddb6be",
   "metadata": {},
   "outputs": [
    {
     "data": {
      "text/plain": [
       "[100153, 100154]"
      ]
     },
     "execution_count": 13,
     "metadata": {},
     "output_type": "execute_result"
    }
   ],
   "source": [
    "get_serial_by_project_status(firmware_collection, \"2024-03-22\", \"2024-03-24\", \"td_ble_523\", \"success\")"
   ]
  },
  {
   "cell_type": "markdown",
   "id": "b5697fca",
   "metadata": {},
   "source": [
    "#### Функция для возврата суммы времени, затраченного на прошивку плат одного типа"
   ]
  },
  {
   "cell_type": "code",
   "execution_count": 14,
   "id": "6f6a70a9",
   "metadata": {},
   "outputs": [],
   "source": [
    "def project_total_time (collection, start_date, end_date, project_name):\n",
    "    '''\n",
    "    Функция для возврата суммы времени, затраченного на прошивку платы одного типа\n",
    "\n",
    "    Parameters:\n",
    "        collection (pymongo.collection.Collection): Коллекция MongoDB, из которой нужно извлечь данные. \n",
    "        start_date (str): Начальная дата в формате 'YYYY-MM-DD'.\n",
    "        end_date (str): Конечная дата в формате 'YYYY-MM-DD'.\n",
    "        project_name(str): Имя проекта\n",
    "        \n",
    "    Returns:\n",
    "       total_seconds (float): сумма времени \n",
    "       \n",
    "    Example_usage:\n",
    "        project_total_time(firmware_collection, \"2024-03-22\", \"2024-03-24\", \"td_ble_523\")\n",
    "    '''\n",
    "    query = {'project_name' : project_name,\n",
    "             'timestamp' : {'$gte': start_date,\n",
    "                           '$lte': end_date}}\n",
    "    projection = {'_id': 0, 'cycle_time': 1}\n",
    "    \n",
    "    cursor = collection.find(query, projection)\n",
    "    project_time = 0\n",
    "    for record in cursor:\n",
    "        project_time += record.get('cycle_time', 0)\n",
    "\n",
    "    return project_time"
   ]
  },
  {
   "cell_type": "markdown",
   "id": "ebd34a3e",
   "metadata": {},
   "source": [
    "Посчитаем время, ушедшее на прошивку проекта:"
   ]
  },
  {
   "cell_type": "code",
   "execution_count": 15,
   "id": "cbe4ffa6",
   "metadata": {},
   "outputs": [
    {
     "name": "stdout",
     "output_type": "stream",
     "text": [
      "На прошивку проектов td_ble_523 ушло 269.71 секунд\n"
     ]
    }
   ],
   "source": [
    "project_time = project_total_time(firmware_collection, \"2024-03-22\", \"2024-03-24\", \"td_ble_523\")\n",
    "print(f'На прошивку проектов td_ble_523 ушло {round(project_time, 2)} секунд')"
   ]
  }
 ],
 "metadata": {
  "kernelspec": {
   "display_name": "Python 3 (ipykernel)",
   "language": "python",
   "name": "python3"
  },
  "language_info": {
   "codemirror_mode": {
    "name": "ipython",
    "version": 3
   },
   "file_extension": ".py",
   "mimetype": "text/x-python",
   "name": "python",
   "nbconvert_exporter": "python",
   "pygments_lexer": "ipython3",
   "version": "3.11.4"
  }
 },
 "nbformat": 4,
 "nbformat_minor": 5
}
