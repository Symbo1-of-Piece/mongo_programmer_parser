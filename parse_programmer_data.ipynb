{
 "cells": [
  {
   "cell_type": "code",
   "execution_count": 7,
   "id": "fde7c58f",
   "metadata": {},
   "outputs": [],
   "source": [
    "import json\n",
    "from pymongo import MongoClient\n",
    "from bson import json_util\n",
    "from collections import Counter\n",
    "import os"
   ]
  },
  {
   "cell_type": "markdown",
   "id": "c5bbaeca",
   "metadata": {},
   "source": [
    "#### Подключение к БД:"
   ]
  },
  {
   "cell_type": "code",
   "execution_count": 2,
   "id": "62a8917a",
   "metadata": {},
   "outputs": [
    {
     "name": "stdout",
     "output_type": "stream",
     "text": [
      "Подключение к MongoDB успешно\n"
     ]
    }
   ],
   "source": [
    "client = MongoClient(\"localhost:27017\")\n",
    "db = client['auto-programmer-db']\n",
    "firmware_collection = db['firmware_projects_arch']\n",
    "collection_list = db.list_collection_names()\n",
    "\n",
    "if collection_list is not None:\n",
    "    print(\"Подключение к MongoDB успешно\")\n",
    "else:\n",
    "    print(\"Не удалось подключиться к MongoDB.\")"
   ]
  },
  {
   "cell_type": "markdown",
   "id": "0afa504e",
   "metadata": {},
   "source": [
    "#### Поиск документа по запросу:"
   ]
  },
  {
   "cell_type": "code",
   "execution_count": 44,
   "id": "007a4c9f",
   "metadata": {},
   "outputs": [],
   "source": [
    "def find_documents(query:dict):\n",
    "    \"\"\"\n",
    "    Функция для поиска документов по заданному запросу.\n",
    "    \n",
    "    Parameters:\n",
    "        query(dict): объект типа словарь, содержащий условие поиска\n",
    "        \n",
    "    Returns:\n",
    "        json_documents: итерируемый объект JSON, содержащий документы, удовлетворяющие запросу\n",
    "        \n",
    "    Example_usage: \n",
    "        find_documents({\"project_name\":\"td_ble_523\"})\n",
    "    \"\"\"\n",
    "    cursor = list(firmware_collection.find(query))\n",
    "    if cursor:\n",
    "        json_documents = json_util.dumps(cursor)\n",
    "        return json_documents\n",
    "    else:\n",
    "        return 'Документы не найдены'"
   ]
  },
  {
   "cell_type": "markdown",
   "id": "8d531854",
   "metadata": {},
   "source": [
    "Получим документ:"
   ]
  },
  {
   "cell_type": "code",
   "execution_count": 47,
   "id": "f71c5afe",
   "metadata": {},
   "outputs": [],
   "source": [
    "my_document = find_documents({\"project_name\":\"td_ble_523\"})"
   ]
  },
  {
   "cell_type": "markdown",
   "id": "ef4306c4",
   "metadata": {},
   "source": [
    "#### Получение списка уникальных имен"
   ]
  },
  {
   "cell_type": "code",
   "execution_count": 5,
   "id": "42097051",
   "metadata": {},
   "outputs": [],
   "source": [
    "def find_unique_project_names(collection, timestamp:str = None):\n",
    "    \"\"\"\n",
    "    Функция для поиска уникальных имен проектов.\n",
    "    \n",
    "    Parameters:\n",
    "        firmware_collection(pymongo.collection.Collection): Коллекция MongoDB, из которой нужно извлечь данные. \n",
    "        timestamp(str, optional): опциональный параметр, при наличии которого будет фильтрация только за указанную дату\n",
    "                        (по умолчанию за все время)\n",
    "        \n",
    "    Returns:\n",
    "       unique_project_names(list): возвращает список с уникальными именами проектов\n",
    "        \n",
    "    Example_usage: \n",
    "        find_unique_project_names(firmware_collection)\n",
    "        find_unique_project_names(firmware_collection, '2024-03-21')\n",
    "        \n",
    "    \"\"\"\n",
    "    query = {}\n",
    "    if timestamp:\n",
    "        query['timestamp'] = {'$regex': timestamp}\n",
    "\n",
    "    unique_project_names = firmware_collection.distinct('project_name', query)\n",
    "    return unique_project_names"
   ]
  },
  {
   "cell_type": "markdown",
   "id": "1d2d6a55",
   "metadata": {},
   "source": [
    "Получим список уникальных имен:"
   ]
  },
  {
   "cell_type": "code",
   "execution_count": 21,
   "id": "dcb15511",
   "metadata": {},
   "outputs": [
    {
     "data": {
      "text/plain": [
       "['td_ble_523']"
      ]
     },
     "execution_count": 21,
     "metadata": {},
     "output_type": "execute_result"
    }
   ],
   "source": [
    "find_unique_project_names(firmware_collection, '2024-03-21')"
   ]
  },
  {
   "cell_type": "markdown",
   "id": "50b8869c",
   "metadata": {},
   "source": [
    "#### Функция для возврата списка mac:serial в заданном промежутке времени"
   ]
  },
  {
   "cell_type": "code",
   "execution_count": 50,
   "id": "437e5a31",
   "metadata": {},
   "outputs": [],
   "source": [
    "def get_serial_mac_pairs(collection, start_date, end_date):\n",
    "    \"\"\"\n",
    "    Функция для извлечения списка пар серийный номер - MAC-адрес за указанный промежуток времени.\n",
    "\n",
    "    Parameters:\n",
    "        collection (pymongo.collection.Collection): Коллекция MongoDB, из которой нужно извлечь данные. \n",
    "        start_date (str): Начальная дата в формате 'YYYY-MM-DD'.\n",
    "        end_date (str): Конечная дата в формате 'YYYY-MM-DD'.\n",
    "        \n",
    "    Returns:\n",
    "       serial_mac_pairs (list): Список, который содержит пары значений serial_number:mac_address.\n",
    "       \n",
    "    Example_usage:\n",
    "        get_serial_mac_pairs(firmware_collection, \"2024-03-20\", \"2024-03-24\")\n",
    "\n",
    "    \"\"\"\n",
    "    query = {'timestamp': {'$gte': start_date,\n",
    "                           '$lte': end_date}}\n",
    "    projection = {'_id': 0, 'plates': 1}\n",
    "\n",
    "    cursor = collection.find(query, projection)\n",
    "\n",
    "    serial_mac_pairs = []\n",
    "    for document in cursor:\n",
    "        plates = document.get('plates', {})\n",
    "        for plate_info in plates.values():\n",
    "            serial_number = plate_info.get('serial_number')\n",
    "            mac_address = plate_info.get('mac_address')\n",
    "            serial_mac_pairs.append((serial_number, mac_address)) \n",
    "    if serial_mac_pairs:\n",
    "        return serial_mac_pairs\n",
    "    else:\n",
    "        return {'Документы за выбранные даты найдены'}"
   ]
  },
  {
   "cell_type": "markdown",
   "id": "032a6093",
   "metadata": {},
   "source": [
    "Получим список серийников и mac-адресов:"
   ]
  },
  {
   "cell_type": "code",
   "execution_count": 51,
   "id": "c07f1b1b",
   "metadata": {},
   "outputs": [
    {
     "name": "stdout",
     "output_type": "stream",
     "text": [
      "[(100153, 'A7:D6:8E:73:86:C5 C5:86:73:E'), (None, None), (None, None), (None, None), (None, None), (None, None), (None, None), (None, None), (None, None), (None, None), (None, None), (None, None), (None, None), (None, None), (None, None), (None, None), (None, None), (None, None), (None, None), (100154, '04:44:3A:65:A0:DE DE:A0:65:A'), (100155, 'A7:D6:8E:73:86:C5 C5:86:73:E'), (100156, '1C:0C:49:B7:0E:C0 C0:0E:B7:9'), (100157, 'F7:9E:69:40:2A:C5 C5:2A:40:9'), (None, None), (None, None), (None, None), (None, None), (None, None), (None, None), (None, None), (None, None), (None, None), (None, None), (None, None), (None, None), (None, None), (None, None), (None, None), (None, None), (None, None), (100157, 'A7:D6:8E:73:86:C5 C5:86:73:E'), (100158, '1C:0C:49:B7:0E:C0 C0:0E:B7:9'), (100159, 'F7:9E:69:40:2A:C5 C5:2A:40:9'), (100160, '26:64:E1:B6:15:FF FF:15:B6:1'), (100161, '06:80:D5:FD:CE:DA DA:CE:FD:5'), (None, None), (None, None), (None, None), (None, None), (None, None), (None, None), (None, None), (None, None), (None, None), (None, None), (None, None), (None, None), (None, None), (None, None), (None, None), (100162, 'A7:D6:8E:73:86:C5 C5:86:73:E'), (None, None), (None, None), (None, None), (None, None), (None, None), (None, None), (None, None), (None, None), (None, None), (None, None), (None, None), (None, None), (None, None), (None, None), (None, None), (None, None), (None, None), (None, None), (100163, '//')]\n"
     ]
    }
   ],
   "source": [
    "print(get_serial_mac_pairs(firmware_collection, \"2024-03-22\", \"2024-03-23\"))"
   ]
  },
  {
   "cell_type": "markdown",
   "id": "9f79da90",
   "metadata": {},
   "source": [
    "#### Функция для возврата словаря со статусами в заданном промежутке времени и проекте"
   ]
  },
  {
   "cell_type": "code",
   "execution_count": 24,
   "id": "d19b3d53",
   "metadata": {},
   "outputs": [],
   "source": [
    "def get_project_statuses(collection, start_date, end_date, project_name):\n",
    "    \"\"\"\n",
    "    Функция для получения словаря со статусами по проекту в заданный промежуток времени.\n",
    "\n",
    "    Parameters:\n",
    "        collection (pymongo.collection.Collection): Коллекция MongoDB, из которой нужно извлечь данные. \n",
    "        start_date (str): Начальная дата в формате 'YYYY-MM-DD'.\n",
    "        end_date (str): Конечная дата в формате 'YYYY-MM-DD'.\n",
    "        project_name(str): Имя проекта\n",
    "        \n",
    "    Returns:\n",
    "       project_status_dict (dict): Cловарь, который содержит статусы и информацию о них.\n",
    "       \n",
    "    Example_usage:\n",
    "        get_project_statuses(firmware_collection, \"2024-03-20\", \"2024-03-24\", \"td_ble_523\")\n",
    "\n",
    "    \"\"\"\n",
    "    query = {'project_name' : project_name,\n",
    "             'timestamp' : {'$gte': start_date,\n",
    "                           '$lte': end_date}}\n",
    "    projection = {'_id': 0, 'plates': 1}\n",
    "\n",
    "    cursor = collection.find(query, projection)\n",
    "\n",
    "    project_status_dict = {}\n",
    "    statuses_list = []\n",
    "    for document in cursor:\n",
    "        plates = document.get('plates', {})\n",
    "        for plate_info in plates.values():\n",
    "            statuses = plate_info.get('status')\n",
    "            statuses_list.append(statuses) \n",
    "    if statuses_list:\n",
    "        status_counts = Counter(statuses_list)\n",
    "        project_status_dict = {'total': len(statuses_list)}\n",
    "        project_status_dict.update(status_counts)    \n",
    "        return project_status_dict\n",
    "    else:\n",
    "        return f'Плат со статусом в проекте {project_name} за выбранный период времени не найдено'"
   ]
  },
  {
   "cell_type": "markdown",
   "id": "977773c8",
   "metadata": {},
   "source": [
    "Получим информацию о статусах плат проекта:"
   ]
  },
  {
   "cell_type": "code",
   "execution_count": 25,
   "id": "86e8a63f",
   "metadata": {},
   "outputs": [
    {
     "name": "stdout",
     "output_type": "stream",
     "text": [
      "{'total': 80, 'success': 10, 'nottodo': 68, 'fail': 2}\n"
     ]
    }
   ],
   "source": [
    "print(get_project_statuses(firmware_collection, \"2024-03-22\", \"2024-03-23\", \"td_ble_523\"))"
   ]
  },
  {
   "cell_type": "markdown",
   "id": "c3001b51",
   "metadata": {},
   "source": [
    "#### Функция для возврата списка серийников в проекте с заданным статусом за промежуток времени"
   ]
  },
  {
   "cell_type": "code",
   "execution_count": 26,
   "id": "f46f4974",
   "metadata": {},
   "outputs": [],
   "source": [
    "def get_serial_by_project_status(collection, start_date, end_date, project_name, status):\n",
    "    \"\"\"\n",
    "    Функция для возврата списка серийников в проекте с заданным статусом за промежуток времени\n",
    "\n",
    "    Parameters:\n",
    "        collection (pymongo.collection.Collection): Коллекция MongoDB, из которой нужно извлечь данные. \n",
    "        start_date (str): Начальная дата в формате 'YYYY-MM-DD'.\n",
    "        end_date (str): Конечная дата в формате 'YYYY-MM-DD'.\n",
    "        project_name(str): Имя проекта\n",
    "        status(str): Статус платы\n",
    "        \n",
    "    Returns:\n",
    "       serial_number_list (list): Лист содержащий серийники плат с заданным статусом\n",
    "       \n",
    "    Example_usage:\n",
    "        get_serial_by_project_status(firmware_collection, \"2024-03-22\", \"2024-03-24\", \"td_ble_523\", \"success\")\n",
    "\n",
    "    \"\"\"\n",
    "    query = {'project_name' : project_name,\n",
    "             'timestamp' : {'$gte': start_date,\n",
    "                           '$lte': end_date}}\n",
    "    projection = {'_id': 0, 'plates': 1}\n",
    "\n",
    "    cursor = collection.find(query, projection)\n",
    "\n",
    "    serial_number_list = []\n",
    "    for document in cursor:\n",
    "        plates = document.get('plates', {})\n",
    "        for plate_info in plates.values():\n",
    "            plate_status = plate_info.get('status')\n",
    "            if plate_status == status:\n",
    "                serial_number = plate_info.get('serial_number')\n",
    "                serial_number_list.append(serial_number)\n",
    "        return serial_number_list\n",
    "    else:\n",
    "        return f'Плат со статусом {status} в проекте {project_name} за выбранный период времени не найдено'"
   ]
  },
  {
   "cell_type": "markdown",
   "id": "e63dcca4",
   "metadata": {},
   "source": [
    "Получим серийники плат:"
   ]
  },
  {
   "cell_type": "code",
   "execution_count": 27,
   "id": "a7ddb6be",
   "metadata": {},
   "outputs": [
    {
     "data": {
      "text/plain": [
       "[100153, 100154]"
      ]
     },
     "execution_count": 27,
     "metadata": {},
     "output_type": "execute_result"
    }
   ],
   "source": [
    "get_serial_by_project_status(firmware_collection, \"2024-03-22\", \"2024-03-24\", \"td_ble_523\", \"success\")"
   ]
  },
  {
   "cell_type": "markdown",
   "id": "b5697fca",
   "metadata": {},
   "source": [
    "#### Функция для возврата суммы времени, затраченного на прошивку плат одного типа"
   ]
  },
  {
   "cell_type": "code",
   "execution_count": 28,
   "id": "6f6a70a9",
   "metadata": {},
   "outputs": [],
   "source": [
    "def project_total_time (collection, start_date, end_date, project_name):\n",
    "    '''\n",
    "    Функция для возврата суммы времени, затраченного на прошивку платы одного типа\n",
    "\n",
    "    Parameters:\n",
    "        collection (pymongo.collection.Collection): Коллекция MongoDB, из которой нужно извлечь данные. \n",
    "        start_date (str): Начальная дата в формате 'YYYY-MM-DD'.\n",
    "        end_date (str): Конечная дата в формате 'YYYY-MM-DD'.\n",
    "        project_name(str): Имя проекта\n",
    "        \n",
    "    Returns:\n",
    "       total_seconds (float): сумма времени \n",
    "       \n",
    "    Example_usage:\n",
    "        project_total_time(firmware_collection, \"2024-03-22\", \"2024-03-24\", \"td_ble_523\")\n",
    "    '''\n",
    "    query = {'project_name' : project_name,\n",
    "             'timestamp' : {'$gte': start_date,\n",
    "                           '$lte': end_date}}\n",
    "    projection = {'_id': 0, 'cycle_time': 1}\n",
    "    \n",
    "    cursor = collection.find(query, projection)\n",
    "    project_time = 0\n",
    "    for record in cursor:\n",
    "        project_time += record.get('cycle_time', 0)\n",
    "\n",
    "    return project_time"
   ]
  },
  {
   "cell_type": "markdown",
   "id": "4d711758",
   "metadata": {},
   "source": [
    "Посчитаем время, ушедшее на прошивку проекта:"
   ]
  },
  {
   "cell_type": "code",
   "execution_count": 29,
   "id": "cbe4ffa6",
   "metadata": {},
   "outputs": [
    {
     "name": "stdout",
     "output_type": "stream",
     "text": [
      "На прошивку проектов td_ble_523 ушло 269.71 секунд\n"
     ]
    }
   ],
   "source": [
    "project_time = project_total_time(firmware_collection, \"2024-03-22\", \"2024-03-24\", \"td_ble_523\")\n",
    "print(f'На прошивку проектов td_ble_523 ушло {round(project_time, 2)} секунд')"
   ]
  },
  {
   "cell_type": "code",
   "execution_count": 41,
   "id": "473dd4f9",
   "metadata": {},
   "outputs": [],
   "source": [
    "def get_data_for_report(collection, start_date, end_date, project_name):\n",
    "    \"\"\"\n",
    "    Функция для возврата информации для отчета: название проекта, прошивка, дата, микроконтроллер\n",
    "\n",
    "    Parameters:\n",
    "        collection (pymongo.collection.Collection): Коллекция MongoDB, из которой нужно извлечь данные. \n",
    "        start_date (str): Начальная дата в формате 'YYYY-MM-DD'.\n",
    "        end_date (str): Конечная дата в формате 'YYYY-MM-DD'.\n",
    "        project_name(str): Имя проекта\n",
    "        \n",
    "    Returns:\n",
    "       data_for_report (list): JSON-подобный список словарей, содержащий информацию для отчета.\n",
    "       \n",
    "    Example_usage:\n",
    "        get_data_for_report(firmware_collection, \"2024-03-22\", \"2024-03-24\", \"td_ble_523\")\n",
    "\n",
    "    \"\"\"\n",
    "    query = {'project_name' : project_name,\n",
    "             'timestamp' : {'$gte': start_date,\n",
    "                           '$lte': end_date}}\n",
    "    projection = {'_id': 0, 'plates': 1, 'firmware_settings.path_to_firmware': 1,\n",
    "                  'firmware_settings.device': 1, 'project_name': 1, 'timestamp': 1}\n",
    "\n",
    "    cursor = collection.find(query, projection)\n",
    "    report = []\n",
    "    for document in cursor:\n",
    "        one_file_report = {}\n",
    "        project_name = document.get('project_name', '')\n",
    "        timestamp = document.get('timestamp', '')\n",
    "        firmware_settings = document.get('firmware_settings', {})\n",
    "        microcontroller_type = firmware_settings.get('device', '')\n",
    "        path_to_firmware = firmware_settings.get('path_to_firmware', '')\n",
    "        firmware_file = os.path.basename(path_to_firmware)\n",
    "        \n",
    "        plates = document.get('plates', {})\n",
    "        for plate_info in plates.values():\n",
    "            serial_number = plate_info.get('serial_number')\n",
    "            mac_address = plate_info.get('mac_address')\n",
    "            one_file_report = {\n",
    "                'project_name': project_name,\n",
    "                'timestamp': timestamp,\n",
    "                'serial_number': serial_number,\n",
    "                'mac_address': mac_address,\n",
    "                'microcontroller_type': microcontroller_type,\n",
    "                'firmware_file': firmware_file\n",
    "            }\n",
    "            report.append(one_file_report)\n",
    "    data_for_report = json.dumps(report)\n",
    "    return data_for_report"
   ]
  },
  {
   "cell_type": "code",
   "execution_count": 42,
   "id": "81387bfe",
   "metadata": {},
   "outputs": [
    {
     "data": {
      "text/plain": [
       "'[{\"project_name\": \"td_ble_523\", \"timestamp\": \"2024-03-21 23:28:27\", \"serial_number\": 100133, \"mac_address\": \"A7:D6:8E:73:86:C5 C5:86:73:E\", \"microcontroller_type\": \"NRF52832_xxAA\", \"firmware_file\": \"SD_BOOT_APP_SETTINGS.hex\"}, {\"project_name\": \"td_ble_523\", \"timestamp\": \"2024-03-21 23:28:27\", \"serial_number\": 100134, \"mac_address\": \"1C:0C:49:B7:0E:C0 C0:0E:B7:9\", \"microcontroller_type\": \"NRF52832_xxAA\", \"firmware_file\": \"SD_BOOT_APP_SETTINGS.hex\"}, {\"project_name\": \"td_ble_523\", \"timestamp\": \"2024-03-21 23:28:27\", \"serial_number\": 100135, \"mac_address\": \"F7:9E:69:40:2A:C5 C5:2A:40:9\", \"microcontroller_type\": \"NRF52832_xxAA\", \"firmware_file\": \"SD_BOOT_APP_SETTINGS.hex\"}, {\"project_name\": \"td_ble_523\", \"timestamp\": \"2024-03-21 23:28:27\", \"serial_number\": 100136, \"mac_address\": \"26:64:E1:B6:15:FF FF:15:B6:1\", \"microcontroller_type\": \"NRF52832_xxAA\", \"firmware_file\": \"SD_BOOT_APP_SETTINGS.hex\"}, {\"project_name\": \"td_ble_523\", \"timestamp\": \"2024-03-21 23:28:27\", \"serial_number\": 100137, \"mac_address\": \"06:80:D5:FD:CE:DA DA:CE:FD:5\", \"microcontroller_type\": \"NRF52832_xxAA\", \"firmware_file\": \"SD_BOOT_APP_SETTINGS.hex\"}, {\"project_name\": \"td_ble_523\", \"timestamp\": \"2024-03-21 23:28:27\", \"serial_number\": 100138, \"mac_address\": \"28:F4:F8:49:D3:F7 F7:D3:49:8\", \"microcontroller_type\": \"NRF52832_xxAA\", \"firmware_file\": \"SD_BOOT_APP_SETTINGS.hex\"}, {\"project_name\": \"td_ble_523\", \"timestamp\": \"2024-03-21 23:28:27\", \"serial_number\": 100139, \"mac_address\": \"DE:85:85:4E:64:E8 E8:64:4E:5\", \"microcontroller_type\": \"NRF52832_xxAA\", \"firmware_file\": \"SD_BOOT_APP_SETTINGS.hex\"}, {\"project_name\": \"td_ble_523\", \"timestamp\": \"2024-03-21 23:28:27\", \"serial_number\": 100140, \"mac_address\": \"5F:59:80:A5:EE:C9 C9:EE:A5:0\", \"microcontroller_type\": \"NRF52832_xxAA\", \"firmware_file\": \"SD_BOOT_APP_SETTINGS.hex\"}, {\"project_name\": \"td_ble_523\", \"timestamp\": \"2024-03-21 23:28:27\", \"serial_number\": 100141, \"mac_address\": \"6F:10:1F:4B:62:D0 D0:62:4B:F\", \"microcontroller_type\": \"NRF52832_xxAA\", \"firmware_file\": \"SD_BOOT_APP_SETTINGS.hex\"}, {\"project_name\": \"td_ble_523\", \"timestamp\": \"2024-03-21 23:28:27\", \"serial_number\": 100142, \"mac_address\": \"F9:A3:4C:44:5A:D8 D8:5A:44:C\", \"microcontroller_type\": \"NRF52832_xxAA\", \"firmware_file\": \"SD_BOOT_APP_SETTINGS.hex\"}, {\"project_name\": \"td_ble_523\", \"timestamp\": \"2024-03-21 23:28:27\", \"serial_number\": 100143, \"mac_address\": \"BC:72:8A:D7:05:EA EA:05:D7:A\", \"microcontroller_type\": \"NRF52832_xxAA\", \"firmware_file\": \"SD_BOOT_APP_SETTINGS.hex\"}, {\"project_name\": \"td_ble_523\", \"timestamp\": \"2024-03-21 23:28:27\", \"serial_number\": 100144, \"mac_address\": \"1E:02:16:3F:8F:F9 F9:8F:3F:6\", \"microcontroller_type\": \"NRF52832_xxAA\", \"firmware_file\": \"SD_BOOT_APP_SETTINGS.hex\"}, {\"project_name\": \"td_ble_523\", \"timestamp\": \"2024-03-21 23:28:27\", \"serial_number\": 100145, \"mac_address\": \"86:F7:DE:7B:CB:D4 D4:CB:7B:E\", \"microcontroller_type\": \"NRF52832_xxAA\", \"firmware_file\": \"SD_BOOT_APP_SETTINGS.hex\"}, {\"project_name\": \"td_ble_523\", \"timestamp\": \"2024-03-21 23:28:27\", \"serial_number\": 100146, \"mac_address\": \"D8:25:17:21:CC:E5 E5:CC:21:7\", \"microcontroller_type\": \"NRF52832_xxAA\", \"firmware_file\": \"SD_BOOT_APP_SETTINGS.hex\"}, {\"project_name\": \"td_ble_523\", \"timestamp\": \"2024-03-21 23:28:27\", \"serial_number\": 100147, \"mac_address\": \"CC:46:44:68:B1:CA CA:B1:68:4\", \"microcontroller_type\": \"NRF52832_xxAA\", \"firmware_file\": \"SD_BOOT_APP_SETTINGS.hex\"}, {\"project_name\": \"td_ble_523\", \"timestamp\": \"2024-03-21 23:28:27\", \"serial_number\": 100148, \"mac_address\": \"1C:93:AD:2D:6A:F8 F8:6A:2D:D\", \"microcontroller_type\": \"NRF52832_xxAA\", \"firmware_file\": \"SD_BOOT_APP_SETTINGS.hex\"}, {\"project_name\": \"td_ble_523\", \"timestamp\": \"2024-03-21 23:28:27\", \"serial_number\": 100149, \"mac_address\": \"67:41:7D:30:AC:C8 C8:AC:30:D\", \"microcontroller_type\": \"NRF52832_xxAA\", \"firmware_file\": \"SD_BOOT_APP_SETTINGS.hex\"}, {\"project_name\": \"td_ble_523\", \"timestamp\": \"2024-03-21 23:28:27\", \"serial_number\": 100150, \"mac_address\": \"5D:15:8D:E5:85:DE DE:85:E5:D\", \"microcontroller_type\": \"NRF52832_xxAA\", \"firmware_file\": \"SD_BOOT_APP_SETTINGS.hex\"}, {\"project_name\": \"td_ble_523\", \"timestamp\": \"2024-03-21 23:28:27\", \"serial_number\": 100151, \"mac_address\": \"72:1D:5B:05:8D:DB DB:8D:05:B\", \"microcontroller_type\": \"NRF52832_xxAA\", \"firmware_file\": \"SD_BOOT_APP_SETTINGS.hex\"}, {\"project_name\": \"td_ble_523\", \"timestamp\": \"2024-03-21 23:28:27\", \"serial_number\": 100152, \"mac_address\": \"04:44:3A:65:A0:DE DE:A0:65:A\", \"microcontroller_type\": \"NRF52832_xxAA\", \"firmware_file\": \"SD_BOOT_APP_SETTINGS.hex\"}]'"
      ]
     },
     "execution_count": 42,
     "metadata": {},
     "output_type": "execute_result"
    }
   ],
   "source": [
    "get_data_for_report(firmware_collection, \"2024-03-21\", \"2024-03-22\", \"td_ble_523\")"
   ]
  }
 ],
 "metadata": {
  "kernelspec": {
   "display_name": "Python 3 (ipykernel)",
   "language": "python",
   "name": "python3"
  },
  "language_info": {
   "codemirror_mode": {
    "name": "ipython",
    "version": 3
   },
   "file_extension": ".py",
   "mimetype": "text/x-python",
   "name": "python",
   "nbconvert_exporter": "python",
   "pygments_lexer": "ipython3",
   "version": "3.11.4"
  }
 },
 "nbformat": 4,
 "nbformat_minor": 5
}
